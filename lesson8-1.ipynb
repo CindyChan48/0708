{
 "cells": [
  {
   "cell_type": "code",
   "execution_count": 6,
   "metadata": {},
   "outputs": [
    {
     "data": {
      "text/plain": [
       "[[94, 95, 83, 60, 58],\n",
       " [89, 63, 57, 55, 70],\n",
       " [67, 94, 74, 78, 85],\n",
       " [68, 55, 59, 94, 50],\n",
       " [64, 66, 88, 61, 95],\n",
       " [94, 63, 96, 86, 82],\n",
       " [79, 87, 79, 79, 96],\n",
       " [61, 69, 58, 58, 96],\n",
       " [76, 57, 84, 91, 97],\n",
       " [77, 89, 63, 75, 50],\n",
       " [95, 52, 52, 67, 84],\n",
       " [52, 54, 99, 82, 63],\n",
       " [91, 62, 95, 90, 74],\n",
       " [100, 78, 96, 51, 96],\n",
       " [71, 90, 79, 51, 72],\n",
       " [81, 55, 77, 54, 77],\n",
       " [67, 93, 72, 93, 85],\n",
       " [65, 52, 63, 66, 65],\n",
       " [100, 96, 76, 80, 69],\n",
       " [76, 59, 81, 59, 90],\n",
       " [71, 52, 90, 93, 95],\n",
       " [76, 50, 100, 50, 60],\n",
       " [69, 97, 94, 65, 78],\n",
       " [65, 73, 78, 71, 98],\n",
       " [82, 74, 62, 72, 98],\n",
       " [59, 95, 69, 96, 66],\n",
       " [72, 63, 89, 69, 82],\n",
       " [80, 67, 85, 66, 75],\n",
       " [86, 56, 92, 57, 72],\n",
       " [87, 62, 78, 72, 71],\n",
       " [60, 79, 84, 59, 52],\n",
       " [93, 51, 71, 61, 92],\n",
       " [63, 99, 72, 92, 77],\n",
       " [54, 77, 94, 97, 70],\n",
       " [66, 76, 60, 57, 67],\n",
       " [70, 54, 89, 67, 88],\n",
       " [62, 54, 80, 70, 81],\n",
       " [56, 84, 90, 55, 94],\n",
       " [70, 71, 72, 77, 79],\n",
       " [57, 77, 68, 59, 61],\n",
       " [94, 67, 52, 60, 66],\n",
       " [66, 94, 61, 81, 90],\n",
       " [57, 57, 91, 55, 88],\n",
       " [80, 50, 93, 56, 79],\n",
       " [64, 51, 56, 97, 67],\n",
       " [60, 95, 84, 54, 89],\n",
       " [71, 97, 99, 58, 97],\n",
       " [60, 64, 75, 81, 76],\n",
       " [59, 97, 76, 54, 76],\n",
       " [54, 96, 60, 74, 71]]"
      ]
     },
     "execution_count": 6,
     "metadata": {},
     "output_type": "execute_result"
    }
   ],
   "source": [
    "import random\n",
    "students  = []\n",
    "for _  in range(50):\n",
    "    stu = list()\n",
    "    for _ in range(5):\n",
    "        stu.append(random.randint(50,  100))\n",
    "    students.append(stu)\n",
    "students"
   ]
  },
  {
   "cell_type": "code",
   "execution_count": 7,
   "metadata": {},
   "outputs": [],
   "source": [
    "import csv\n",
    "csv_write_file= open('student.csv',newline='',mode='w',encoding='utf-8')\n",
    "csv_writer=csv.writer(csv_write_file)\n",
    "csv_writer.writerow(['國文','英文','數學','地理','歷史'])\n",
    "csv_writer.writerows(students)\n",
    "csv_write_file.close()"
   ]
  }
 ],
 "metadata": {
  "kernelspec": {
   "display_name": "Python 3",
   "language": "python",
   "name": "python3"
  },
  "language_info": {
   "codemirror_mode": {
    "name": "ipython",
    "version": 3
   },
   "file_extension": ".py",
   "mimetype": "text/x-python",
   "name": "python",
   "nbconvert_exporter": "python",
   "pygments_lexer": "ipython3",
   "version": "3.10.8"
  },
  "orig_nbformat": 4
 },
 "nbformat": 4,
 "nbformat_minor": 2
}
