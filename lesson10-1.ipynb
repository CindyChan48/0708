{
 "cells": [
  {
   "cell_type": "code",
   "execution_count": 31,
   "metadata": {},
   "outputs": [
    {
     "ename": "FileNotFoundError",
     "evalue": "[Errno 2] No such file or directory: 'F-C0032-001.json'",
     "output_type": "error",
     "traceback": [
      "\u001b[0;31m---------------------------------------------------------------------------\u001b[0m",
      "\u001b[0;31mFileNotFoundError\u001b[0m                         Traceback (most recent call last)",
      "Cell \u001b[0;32mIn[31], line 2\u001b[0m\n\u001b[1;32m      1\u001b[0m \u001b[39mimport\u001b[39;00m \u001b[39mjson\u001b[39;00m\n\u001b[0;32m----> 2\u001b[0m \u001b[39mwith\u001b[39;00m \u001b[39mopen\u001b[39;49m(\u001b[39m'\u001b[39;49m\u001b[39mF-C0032-001.json\u001b[39;49m\u001b[39m'\u001b[39;49m,encoding\u001b[39m=\u001b[39;49m\u001b[39m'\u001b[39;49m\u001b[39mutf-8\u001b[39;49m\u001b[39m'\u001b[39;49m) \u001b[39mas\u001b[39;00m file:\n\u001b[1;32m      3\u001b[0m     json_str\u001b[39m=\u001b[39mfile\u001b[39m.\u001b[39mread()\n\u001b[1;32m      4\u001b[0m     weather\u001b[39m=\u001b[39mjson\u001b[39m.\u001b[39mloads(json_str)\n",
      "File \u001b[0;32m~/.local/lib/python3.10/site-packages/IPython/core/interactiveshell.py:284\u001b[0m, in \u001b[0;36m_modified_open\u001b[0;34m(file, *args, **kwargs)\u001b[0m\n\u001b[1;32m    277\u001b[0m \u001b[39mif\u001b[39;00m file \u001b[39min\u001b[39;00m {\u001b[39m0\u001b[39m, \u001b[39m1\u001b[39m, \u001b[39m2\u001b[39m}:\n\u001b[1;32m    278\u001b[0m     \u001b[39mraise\u001b[39;00m \u001b[39mValueError\u001b[39;00m(\n\u001b[1;32m    279\u001b[0m         \u001b[39mf\u001b[39m\u001b[39m\"\u001b[39m\u001b[39mIPython won\u001b[39m\u001b[39m'\u001b[39m\u001b[39mt let you open fd=\u001b[39m\u001b[39m{\u001b[39;00mfile\u001b[39m}\u001b[39;00m\u001b[39m by default \u001b[39m\u001b[39m\"\u001b[39m\n\u001b[1;32m    280\u001b[0m         \u001b[39m\"\u001b[39m\u001b[39mas it is likely to crash IPython. If you know what you are doing, \u001b[39m\u001b[39m\"\u001b[39m\n\u001b[1;32m    281\u001b[0m         \u001b[39m\"\u001b[39m\u001b[39myou can use builtins\u001b[39m\u001b[39m'\u001b[39m\u001b[39m open.\u001b[39m\u001b[39m\"\u001b[39m\n\u001b[1;32m    282\u001b[0m     )\n\u001b[0;32m--> 284\u001b[0m \u001b[39mreturn\u001b[39;00m io_open(file, \u001b[39m*\u001b[39;49margs, \u001b[39m*\u001b[39;49m\u001b[39m*\u001b[39;49mkwargs)\n",
      "\u001b[0;31mFileNotFoundError\u001b[0m: [Errno 2] No such file or directory: 'F-C0032-001.json'"
     ]
    }
   ],
   "source": [
    "import json\n",
    "with open('F-C0032-001.json',encoding='utf-8') as file:\n",
    "    json_str=file.read()\n",
    "    weather=json.loads(json_str)\n",
    "print(weather)\n",
    "    \n",
    "    "
   ]
  },
  {
   "cell_type": "code",
   "execution_count": null,
   "metadata": {},
   "outputs": [
    {
     "name": "stdout",
     "output_type": "stream",
     "text": [
      "下載成功\n"
     ]
    }
   ],
   "source": [
    "#import json\n",
    "#with open('F-C0032-001.json',encoding='utf-8') as file:\n",
    "#    json_str = file.read()\n",
    "#    weather = json.loads(json_str)  \n",
    "\n",
    "import requests\n",
    "\n",
    "url = 'https://opendata.cwb.gov.tw/fileapi/v1/opendataapi/F-C0032-001?Authorization=rdec-key-123-45678-011121314&format=JSON'\n",
    "\n",
    "response = requests.get(url)\n",
    "if response.status_code == 200:\n",
    "    print(\"下載成功\")\n",
    "    weather = response.json()"
   ]
  },
  {
   "cell_type": "code",
   "execution_count": null,
   "metadata": {},
   "outputs": [
    {
     "name": "stdout",
     "output_type": "stream",
     "text": [
      "{'locationName': '臺北市', 'weatherElement': [{'elementName': 'Wx', 'time': [{'startTime': '2023-07-22T12:00:00+08:00', 'endTime': '2023-07-22T18:00:00+08:00', 'parameter': {'parameterName': '多雲午後短暫雷陣雨', 'parameterValue': '22'}}, {'startTime': '2023-07-22T18:00:00+08:00', 'endTime': '2023-07-23T06:00:00+08:00', 'parameter': {'parameterName': '多雲', 'parameterValue': '4'}}, {'startTime': '2023-07-23T06:00:00+08:00', 'endTime': '2023-07-23T18:00:00+08:00', 'parameter': {'parameterName': '多雲午後短暫雷陣雨', 'parameterValue': '22'}}]}, {'elementName': 'MaxT', 'time': [{'startTime': '2023-07-22T12:00:00+08:00', 'endTime': '2023-07-22T18:00:00+08:00', 'parameter': {'parameterName': '35', 'parameterUnit': 'C'}}, {'startTime': '2023-07-22T18:00:00+08:00', 'endTime': '2023-07-23T06:00:00+08:00', 'parameter': {'parameterName': '32', 'parameterUnit': 'C'}}, {'startTime': '2023-07-23T06:00:00+08:00', 'endTime': '2023-07-23T18:00:00+08:00', 'parameter': {'parameterName': '35', 'parameterUnit': 'C'}}]}, {'elementName': 'MinT', 'time': [{'startTime': '2023-07-22T12:00:00+08:00', 'endTime': '2023-07-22T18:00:00+08:00', 'parameter': {'parameterName': '32', 'parameterUnit': 'C'}}, {'startTime': '2023-07-22T18:00:00+08:00', 'endTime': '2023-07-23T06:00:00+08:00', 'parameter': {'parameterName': '27', 'parameterUnit': 'C'}}, {'startTime': '2023-07-23T06:00:00+08:00', 'endTime': '2023-07-23T18:00:00+08:00', 'parameter': {'parameterName': '27', 'parameterUnit': 'C'}}]}, {'elementName': 'CI', 'time': [{'startTime': '2023-07-22T12:00:00+08:00', 'endTime': '2023-07-22T18:00:00+08:00', 'parameter': {'parameterName': '悶熱'}}, {'startTime': '2023-07-22T18:00:00+08:00', 'endTime': '2023-07-23T06:00:00+08:00', 'parameter': {'parameterName': '舒適至悶熱'}}, {'startTime': '2023-07-23T06:00:00+08:00', 'endTime': '2023-07-23T18:00:00+08:00', 'parameter': {'parameterName': '舒適至易中暑'}}]}, {'elementName': 'PoP', 'time': [{'startTime': '2023-07-22T12:00:00+08:00', 'endTime': '2023-07-22T18:00:00+08:00', 'parameter': {'parameterName': '60', 'parameterUnit': '百分比'}}, {'startTime': '2023-07-22T18:00:00+08:00', 'endTime': '2023-07-23T06:00:00+08:00', 'parameter': {'parameterName': '10', 'parameterUnit': '百分比'}}, {'startTime': '2023-07-23T06:00:00+08:00', 'endTime': '2023-07-23T18:00:00+08:00', 'parameter': {'parameterName': '40', 'parameterUnit': '百分比'}}]}]}\n",
      "{'locationName': '新北市', 'weatherElement': [{'elementName': 'Wx', 'time': [{'startTime': '2023-07-22T12:00:00+08:00', 'endTime': '2023-07-22T18:00:00+08:00', 'parameter': {'parameterName': '多雲午後短暫雷陣雨', 'parameterValue': '22'}}, {'startTime': '2023-07-22T18:00:00+08:00', 'endTime': '2023-07-23T06:00:00+08:00', 'parameter': {'parameterName': '多雲', 'parameterValue': '4'}}, {'startTime': '2023-07-23T06:00:00+08:00', 'endTime': '2023-07-23T18:00:00+08:00', 'parameter': {'parameterName': '多雲午後短暫雷陣雨', 'parameterValue': '22'}}]}, {'elementName': 'MaxT', 'time': [{'startTime': '2023-07-22T12:00:00+08:00', 'endTime': '2023-07-22T18:00:00+08:00', 'parameter': {'parameterName': '34', 'parameterUnit': 'C'}}, {'startTime': '2023-07-22T18:00:00+08:00', 'endTime': '2023-07-23T06:00:00+08:00', 'parameter': {'parameterName': '31', 'parameterUnit': 'C'}}, {'startTime': '2023-07-23T06:00:00+08:00', 'endTime': '2023-07-23T18:00:00+08:00', 'parameter': {'parameterName': '34', 'parameterUnit': 'C'}}]}, {'elementName': 'MinT', 'time': [{'startTime': '2023-07-22T12:00:00+08:00', 'endTime': '2023-07-22T18:00:00+08:00', 'parameter': {'parameterName': '31', 'parameterUnit': 'C'}}, {'startTime': '2023-07-22T18:00:00+08:00', 'endTime': '2023-07-23T06:00:00+08:00', 'parameter': {'parameterName': '27', 'parameterUnit': 'C'}}, {'startTime': '2023-07-23T06:00:00+08:00', 'endTime': '2023-07-23T18:00:00+08:00', 'parameter': {'parameterName': '27', 'parameterUnit': 'C'}}]}, {'elementName': 'CI', 'time': [{'startTime': '2023-07-22T12:00:00+08:00', 'endTime': '2023-07-22T18:00:00+08:00', 'parameter': {'parameterName': '悶熱'}}, {'startTime': '2023-07-22T18:00:00+08:00', 'endTime': '2023-07-23T06:00:00+08:00', 'parameter': {'parameterName': '舒適至悶熱'}}, {'startTime': '2023-07-23T06:00:00+08:00', 'endTime': '2023-07-23T18:00:00+08:00', 'parameter': {'parameterName': '舒適至易中暑'}}]}, {'elementName': 'PoP', 'time': [{'startTime': '2023-07-22T12:00:00+08:00', 'endTime': '2023-07-22T18:00:00+08:00', 'parameter': {'parameterName': '60', 'parameterUnit': '百分比'}}, {'startTime': '2023-07-22T18:00:00+08:00', 'endTime': '2023-07-23T06:00:00+08:00', 'parameter': {'parameterName': '10', 'parameterUnit': '百分比'}}, {'startTime': '2023-07-23T06:00:00+08:00', 'endTime': '2023-07-23T18:00:00+08:00', 'parameter': {'parameterName': '50', 'parameterUnit': '百分比'}}]}]}\n",
      "{'locationName': '桃園市', 'weatherElement': [{'elementName': 'Wx', 'time': [{'startTime': '2023-07-22T12:00:00+08:00', 'endTime': '2023-07-22T18:00:00+08:00', 'parameter': {'parameterName': '多雲午後短暫雷陣雨', 'parameterValue': '22'}}, {'startTime': '2023-07-22T18:00:00+08:00', 'endTime': '2023-07-23T06:00:00+08:00', 'parameter': {'parameterName': '多雲', 'parameterValue': '4'}}, {'startTime': '2023-07-23T06:00:00+08:00', 'endTime': '2023-07-23T18:00:00+08:00', 'parameter': {'parameterName': '多雲午後短暫雷陣雨', 'parameterValue': '22'}}]}, {'elementName': 'MaxT', 'time': [{'startTime': '2023-07-22T12:00:00+08:00', 'endTime': '2023-07-22T18:00:00+08:00', 'parameter': {'parameterName': '35', 'parameterUnit': 'C'}}, {'startTime': '2023-07-22T18:00:00+08:00', 'endTime': '2023-07-23T06:00:00+08:00', 'parameter': {'parameterName': '32', 'parameterUnit': 'C'}}, {'startTime': '2023-07-23T06:00:00+08:00', 'endTime': '2023-07-23T18:00:00+08:00', 'parameter': {'parameterName': '35', 'parameterUnit': 'C'}}]}, {'elementName': 'MinT', 'time': [{'startTime': '2023-07-22T12:00:00+08:00', 'endTime': '2023-07-22T18:00:00+08:00', 'parameter': {'parameterName': '32', 'parameterUnit': 'C'}}, {'startTime': '2023-07-22T18:00:00+08:00', 'endTime': '2023-07-23T06:00:00+08:00', 'parameter': {'parameterName': '27', 'parameterUnit': 'C'}}, {'startTime': '2023-07-23T06:00:00+08:00', 'endTime': '2023-07-23T18:00:00+08:00', 'parameter': {'parameterName': '27', 'parameterUnit': 'C'}}]}, {'elementName': 'CI', 'time': [{'startTime': '2023-07-22T12:00:00+08:00', 'endTime': '2023-07-22T18:00:00+08:00', 'parameter': {'parameterName': '悶熱至易中暑'}}, {'startTime': '2023-07-22T18:00:00+08:00', 'endTime': '2023-07-23T06:00:00+08:00', 'parameter': {'parameterName': '舒適至悶熱'}}, {'startTime': '2023-07-23T06:00:00+08:00', 'endTime': '2023-07-23T18:00:00+08:00', 'parameter': {'parameterName': '舒適至易中暑'}}]}, {'elementName': 'PoP', 'time': [{'startTime': '2023-07-22T12:00:00+08:00', 'endTime': '2023-07-22T18:00:00+08:00', 'parameter': {'parameterName': '40', 'parameterUnit': '百分比'}}, {'startTime': '2023-07-22T18:00:00+08:00', 'endTime': '2023-07-23T06:00:00+08:00', 'parameter': {'parameterName': '10', 'parameterUnit': '百分比'}}, {'startTime': '2023-07-23T06:00:00+08:00', 'endTime': '2023-07-23T18:00:00+08:00', 'parameter': {'parameterName': '30', 'parameterUnit': '百分比'}}]}]}\n",
      "{'locationName': '臺中市', 'weatherElement': [{'elementName': 'Wx', 'time': [{'startTime': '2023-07-22T12:00:00+08:00', 'endTime': '2023-07-22T18:00:00+08:00', 'parameter': {'parameterName': '多雲時陰', 'parameterValue': '5'}}, {'startTime': '2023-07-22T18:00:00+08:00', 'endTime': '2023-07-23T06:00:00+08:00', 'parameter': {'parameterName': '晴時多雲', 'parameterValue': '2'}}, {'startTime': '2023-07-23T06:00:00+08:00', 'endTime': '2023-07-23T18:00:00+08:00', 'parameter': {'parameterName': '多雲午後短暫雷陣雨', 'parameterValue': '22'}}]}, {'elementName': 'MaxT', 'time': [{'startTime': '2023-07-22T12:00:00+08:00', 'endTime': '2023-07-22T18:00:00+08:00', 'parameter': {'parameterName': '35', 'parameterUnit': 'C'}}, {'startTime': '2023-07-22T18:00:00+08:00', 'endTime': '2023-07-23T06:00:00+08:00', 'parameter': {'parameterName': '32', 'parameterUnit': 'C'}}, {'startTime': '2023-07-23T06:00:00+08:00', 'endTime': '2023-07-23T18:00:00+08:00', 'parameter': {'parameterName': '35', 'parameterUnit': 'C'}}]}, {'elementName': 'MinT', 'time': [{'startTime': '2023-07-22T12:00:00+08:00', 'endTime': '2023-07-22T18:00:00+08:00', 'parameter': {'parameterName': '32', 'parameterUnit': 'C'}}, {'startTime': '2023-07-22T18:00:00+08:00', 'endTime': '2023-07-23T06:00:00+08:00', 'parameter': {'parameterName': '28', 'parameterUnit': 'C'}}, {'startTime': '2023-07-23T06:00:00+08:00', 'endTime': '2023-07-23T18:00:00+08:00', 'parameter': {'parameterName': '28', 'parameterUnit': 'C'}}]}, {'elementName': 'CI', 'time': [{'startTime': '2023-07-22T12:00:00+08:00', 'endTime': '2023-07-22T18:00:00+08:00', 'parameter': {'parameterName': '悶熱'}}, {'startTime': '2023-07-22T18:00:00+08:00', 'endTime': '2023-07-23T06:00:00+08:00', 'parameter': {'parameterName': '悶熱'}}, {'startTime': '2023-07-23T06:00:00+08:00', 'endTime': '2023-07-23T18:00:00+08:00', 'parameter': {'parameterName': '舒適至悶熱'}}]}, {'elementName': 'PoP', 'time': [{'startTime': '2023-07-22T12:00:00+08:00', 'endTime': '2023-07-22T18:00:00+08:00', 'parameter': {'parameterName': '10', 'parameterUnit': '百分比'}}, {'startTime': '2023-07-22T18:00:00+08:00', 'endTime': '2023-07-23T06:00:00+08:00', 'parameter': {'parameterName': '10', 'parameterUnit': '百分比'}}, {'startTime': '2023-07-23T06:00:00+08:00', 'endTime': '2023-07-23T18:00:00+08:00', 'parameter': {'parameterName': '30', 'parameterUnit': '百分比'}}]}]}\n",
      "{'locationName': '臺南市', 'weatherElement': [{'elementName': 'Wx', 'time': [{'startTime': '2023-07-22T12:00:00+08:00', 'endTime': '2023-07-22T18:00:00+08:00', 'parameter': {'parameterName': '陰時多雲', 'parameterValue': '6'}}, {'startTime': '2023-07-22T18:00:00+08:00', 'endTime': '2023-07-23T06:00:00+08:00', 'parameter': {'parameterName': '晴時多雲', 'parameterValue': '2'}}, {'startTime': '2023-07-23T06:00:00+08:00', 'endTime': '2023-07-23T18:00:00+08:00', 'parameter': {'parameterName': '多雲午後短暫雷陣雨', 'parameterValue': '22'}}]}, {'elementName': 'MaxT', 'time': [{'startTime': '2023-07-22T12:00:00+08:00', 'endTime': '2023-07-22T18:00:00+08:00', 'parameter': {'parameterName': '33', 'parameterUnit': 'C'}}, {'startTime': '2023-07-22T18:00:00+08:00', 'endTime': '2023-07-23T06:00:00+08:00', 'parameter': {'parameterName': '31', 'parameterUnit': 'C'}}, {'startTime': '2023-07-23T06:00:00+08:00', 'endTime': '2023-07-23T18:00:00+08:00', 'parameter': {'parameterName': '33', 'parameterUnit': 'C'}}]}, {'elementName': 'MinT', 'time': [{'startTime': '2023-07-22T12:00:00+08:00', 'endTime': '2023-07-22T18:00:00+08:00', 'parameter': {'parameterName': '31', 'parameterUnit': 'C'}}, {'startTime': '2023-07-22T18:00:00+08:00', 'endTime': '2023-07-23T06:00:00+08:00', 'parameter': {'parameterName': '28', 'parameterUnit': 'C'}}, {'startTime': '2023-07-23T06:00:00+08:00', 'endTime': '2023-07-23T18:00:00+08:00', 'parameter': {'parameterName': '28', 'parameterUnit': 'C'}}]}, {'elementName': 'CI', 'time': [{'startTime': '2023-07-22T12:00:00+08:00', 'endTime': '2023-07-22T18:00:00+08:00', 'parameter': {'parameterName': '悶熱'}}, {'startTime': '2023-07-22T18:00:00+08:00', 'endTime': '2023-07-23T06:00:00+08:00', 'parameter': {'parameterName': '悶熱'}}, {'startTime': '2023-07-23T06:00:00+08:00', 'endTime': '2023-07-23T18:00:00+08:00', 'parameter': {'parameterName': '悶熱'}}]}, {'elementName': 'PoP', 'time': [{'startTime': '2023-07-22T12:00:00+08:00', 'endTime': '2023-07-22T18:00:00+08:00', 'parameter': {'parameterName': '20', 'parameterUnit': '百分比'}}, {'startTime': '2023-07-22T18:00:00+08:00', 'endTime': '2023-07-23T06:00:00+08:00', 'parameter': {'parameterName': '20', 'parameterUnit': '百分比'}}, {'startTime': '2023-07-23T06:00:00+08:00', 'endTime': '2023-07-23T18:00:00+08:00', 'parameter': {'parameterName': '30', 'parameterUnit': '百分比'}}]}]}\n",
      "{'locationName': '高雄市', 'weatherElement': [{'elementName': 'Wx', 'time': [{'startTime': '2023-07-22T12:00:00+08:00', 'endTime': '2023-07-22T18:00:00+08:00', 'parameter': {'parameterName': '陰時多雲', 'parameterValue': '6'}}, {'startTime': '2023-07-22T18:00:00+08:00', 'endTime': '2023-07-23T06:00:00+08:00', 'parameter': {'parameterName': '多雲時晴', 'parameterValue': '3'}}, {'startTime': '2023-07-23T06:00:00+08:00', 'endTime': '2023-07-23T18:00:00+08:00', 'parameter': {'parameterName': '多雲午後短暫雷陣雨', 'parameterValue': '22'}}]}, {'elementName': 'MaxT', 'time': [{'startTime': '2023-07-22T12:00:00+08:00', 'endTime': '2023-07-22T18:00:00+08:00', 'parameter': {'parameterName': '33', 'parameterUnit': 'C'}}, {'startTime': '2023-07-22T18:00:00+08:00', 'endTime': '2023-07-23T06:00:00+08:00', 'parameter': {'parameterName': '31', 'parameterUnit': 'C'}}, {'startTime': '2023-07-23T06:00:00+08:00', 'endTime': '2023-07-23T18:00:00+08:00', 'parameter': {'parameterName': '33', 'parameterUnit': 'C'}}]}, {'elementName': 'MinT', 'time': [{'startTime': '2023-07-22T12:00:00+08:00', 'endTime': '2023-07-22T18:00:00+08:00', 'parameter': {'parameterName': '31', 'parameterUnit': 'C'}}, {'startTime': '2023-07-22T18:00:00+08:00', 'endTime': '2023-07-23T06:00:00+08:00', 'parameter': {'parameterName': '28', 'parameterUnit': 'C'}}, {'startTime': '2023-07-23T06:00:00+08:00', 'endTime': '2023-07-23T18:00:00+08:00', 'parameter': {'parameterName': '28', 'parameterUnit': 'C'}}]}, {'elementName': 'CI', 'time': [{'startTime': '2023-07-22T12:00:00+08:00', 'endTime': '2023-07-22T18:00:00+08:00', 'parameter': {'parameterName': '悶熱'}}, {'startTime': '2023-07-22T18:00:00+08:00', 'endTime': '2023-07-23T06:00:00+08:00', 'parameter': {'parameterName': '悶熱'}}, {'startTime': '2023-07-23T06:00:00+08:00', 'endTime': '2023-07-23T18:00:00+08:00', 'parameter': {'parameterName': '悶熱'}}]}, {'elementName': 'PoP', 'time': [{'startTime': '2023-07-22T12:00:00+08:00', 'endTime': '2023-07-22T18:00:00+08:00', 'parameter': {'parameterName': '20', 'parameterUnit': '百分比'}}, {'startTime': '2023-07-22T18:00:00+08:00', 'endTime': '2023-07-23T06:00:00+08:00', 'parameter': {'parameterName': '10', 'parameterUnit': '百分比'}}, {'startTime': '2023-07-23T06:00:00+08:00', 'endTime': '2023-07-23T18:00:00+08:00', 'parameter': {'parameterName': '70', 'parameterUnit': '百分比'}}]}]}\n",
      "{'locationName': '基隆市', 'weatherElement': [{'elementName': 'Wx', 'time': [{'startTime': '2023-07-22T12:00:00+08:00', 'endTime': '2023-07-22T18:00:00+08:00', 'parameter': {'parameterName': '多雲', 'parameterValue': '4'}}, {'startTime': '2023-07-22T18:00:00+08:00', 'endTime': '2023-07-23T06:00:00+08:00', 'parameter': {'parameterName': '多雲', 'parameterValue': '4'}}, {'startTime': '2023-07-23T06:00:00+08:00', 'endTime': '2023-07-23T18:00:00+08:00', 'parameter': {'parameterName': '陰時多雲', 'parameterValue': '6'}}]}, {'elementName': 'MaxT', 'time': [{'startTime': '2023-07-22T12:00:00+08:00', 'endTime': '2023-07-22T18:00:00+08:00', 'parameter': {'parameterName': '34', 'parameterUnit': 'C'}}, {'startTime': '2023-07-22T18:00:00+08:00', 'endTime': '2023-07-23T06:00:00+08:00', 'parameter': {'parameterName': '31', 'parameterUnit': 'C'}}, {'startTime': '2023-07-23T06:00:00+08:00', 'endTime': '2023-07-23T18:00:00+08:00', 'parameter': {'parameterName': '34', 'parameterUnit': 'C'}}]}, {'elementName': 'MinT', 'time': [{'startTime': '2023-07-22T12:00:00+08:00', 'endTime': '2023-07-22T18:00:00+08:00', 'parameter': {'parameterName': '31', 'parameterUnit': 'C'}}, {'startTime': '2023-07-22T18:00:00+08:00', 'endTime': '2023-07-23T06:00:00+08:00', 'parameter': {'parameterName': '28', 'parameterUnit': 'C'}}, {'startTime': '2023-07-23T06:00:00+08:00', 'endTime': '2023-07-23T18:00:00+08:00', 'parameter': {'parameterName': '28', 'parameterUnit': 'C'}}]}, {'elementName': 'CI', 'time': [{'startTime': '2023-07-22T12:00:00+08:00', 'endTime': '2023-07-22T18:00:00+08:00', 'parameter': {'parameterName': '悶熱'}}, {'startTime': '2023-07-22T18:00:00+08:00', 'endTime': '2023-07-23T06:00:00+08:00', 'parameter': {'parameterName': '舒適至悶熱'}}, {'startTime': '2023-07-23T06:00:00+08:00', 'endTime': '2023-07-23T18:00:00+08:00', 'parameter': {'parameterName': '舒適至悶熱'}}]}, {'elementName': 'PoP', 'time': [{'startTime': '2023-07-22T12:00:00+08:00', 'endTime': '2023-07-22T18:00:00+08:00', 'parameter': {'parameterName': '10', 'parameterUnit': '百分比'}}, {'startTime': '2023-07-22T18:00:00+08:00', 'endTime': '2023-07-23T06:00:00+08:00', 'parameter': {'parameterName': '10', 'parameterUnit': '百分比'}}, {'startTime': '2023-07-23T06:00:00+08:00', 'endTime': '2023-07-23T18:00:00+08:00', 'parameter': {'parameterName': '10', 'parameterUnit': '百分比'}}]}]}\n",
      "{'locationName': '新竹縣', 'weatherElement': [{'elementName': 'Wx', 'time': [{'startTime': '2023-07-22T12:00:00+08:00', 'endTime': '2023-07-22T18:00:00+08:00', 'parameter': {'parameterName': '多雲', 'parameterValue': '4'}}, {'startTime': '2023-07-22T18:00:00+08:00', 'endTime': '2023-07-23T06:00:00+08:00', 'parameter': {'parameterName': '多雲', 'parameterValue': '4'}}, {'startTime': '2023-07-23T06:00:00+08:00', 'endTime': '2023-07-23T18:00:00+08:00', 'parameter': {'parameterName': '多雲', 'parameterValue': '4'}}]}, {'elementName': 'MaxT', 'time': [{'startTime': '2023-07-22T12:00:00+08:00', 'endTime': '2023-07-22T18:00:00+08:00', 'parameter': {'parameterName': '34', 'parameterUnit': 'C'}}, {'startTime': '2023-07-22T18:00:00+08:00', 'endTime': '2023-07-23T06:00:00+08:00', 'parameter': {'parameterName': '31', 'parameterUnit': 'C'}}, {'startTime': '2023-07-23T06:00:00+08:00', 'endTime': '2023-07-23T18:00:00+08:00', 'parameter': {'parameterName': '34', 'parameterUnit': 'C'}}]}, {'elementName': 'MinT', 'time': [{'startTime': '2023-07-22T12:00:00+08:00', 'endTime': '2023-07-22T18:00:00+08:00', 'parameter': {'parameterName': '31', 'parameterUnit': 'C'}}, {'startTime': '2023-07-22T18:00:00+08:00', 'endTime': '2023-07-23T06:00:00+08:00', 'parameter': {'parameterName': '27', 'parameterUnit': 'C'}}, {'startTime': '2023-07-23T06:00:00+08:00', 'endTime': '2023-07-23T18:00:00+08:00', 'parameter': {'parameterName': '27', 'parameterUnit': 'C'}}]}, {'elementName': 'CI', 'time': [{'startTime': '2023-07-22T12:00:00+08:00', 'endTime': '2023-07-22T18:00:00+08:00', 'parameter': {'parameterName': '悶熱'}}, {'startTime': '2023-07-22T18:00:00+08:00', 'endTime': '2023-07-23T06:00:00+08:00', 'parameter': {'parameterName': '舒適至悶熱'}}, {'startTime': '2023-07-23T06:00:00+08:00', 'endTime': '2023-07-23T18:00:00+08:00', 'parameter': {'parameterName': '舒適至易中暑'}}]}, {'elementName': 'PoP', 'time': [{'startTime': '2023-07-22T12:00:00+08:00', 'endTime': '2023-07-22T18:00:00+08:00', 'parameter': {'parameterName': '10', 'parameterUnit': '百分比'}}, {'startTime': '2023-07-22T18:00:00+08:00', 'endTime': '2023-07-23T06:00:00+08:00', 'parameter': {'parameterName': '10', 'parameterUnit': '百分比'}}, {'startTime': '2023-07-23T06:00:00+08:00', 'endTime': '2023-07-23T18:00:00+08:00', 'parameter': {'parameterName': '20', 'parameterUnit': '百分比'}}]}]}\n",
      "{'locationName': '新竹市', 'weatherElement': [{'elementName': 'Wx', 'time': [{'startTime': '2023-07-22T12:00:00+08:00', 'endTime': '2023-07-22T18:00:00+08:00', 'parameter': {'parameterName': '多雲', 'parameterValue': '4'}}, {'startTime': '2023-07-22T18:00:00+08:00', 'endTime': '2023-07-23T06:00:00+08:00', 'parameter': {'parameterName': '多雲', 'parameterValue': '4'}}, {'startTime': '2023-07-23T06:00:00+08:00', 'endTime': '2023-07-23T18:00:00+08:00', 'parameter': {'parameterName': '多雲時晴', 'parameterValue': '3'}}]}, {'elementName': 'MaxT', 'time': [{'startTime': '2023-07-22T12:00:00+08:00', 'endTime': '2023-07-22T18:00:00+08:00', 'parameter': {'parameterName': '33', 'parameterUnit': 'C'}}, {'startTime': '2023-07-22T18:00:00+08:00', 'endTime': '2023-07-23T06:00:00+08:00', 'parameter': {'parameterName': '31', 'parameterUnit': 'C'}}, {'startTime': '2023-07-23T06:00:00+08:00', 'endTime': '2023-07-23T18:00:00+08:00', 'parameter': {'parameterName': '33', 'parameterUnit': 'C'}}]}, {'elementName': 'MinT', 'time': [{'startTime': '2023-07-22T12:00:00+08:00', 'endTime': '2023-07-22T18:00:00+08:00', 'parameter': {'parameterName': '31', 'parameterUnit': 'C'}}, {'startTime': '2023-07-22T18:00:00+08:00', 'endTime': '2023-07-23T06:00:00+08:00', 'parameter': {'parameterName': '27', 'parameterUnit': 'C'}}, {'startTime': '2023-07-23T06:00:00+08:00', 'endTime': '2023-07-23T18:00:00+08:00', 'parameter': {'parameterName': '27', 'parameterUnit': 'C'}}]}, {'elementName': 'CI', 'time': [{'startTime': '2023-07-22T12:00:00+08:00', 'endTime': '2023-07-22T18:00:00+08:00', 'parameter': {'parameterName': '悶熱'}}, {'startTime': '2023-07-22T18:00:00+08:00', 'endTime': '2023-07-23T06:00:00+08:00', 'parameter': {'parameterName': '舒適至悶熱'}}, {'startTime': '2023-07-23T06:00:00+08:00', 'endTime': '2023-07-23T18:00:00+08:00', 'parameter': {'parameterName': '舒適至悶熱'}}]}, {'elementName': 'PoP', 'time': [{'startTime': '2023-07-22T12:00:00+08:00', 'endTime': '2023-07-22T18:00:00+08:00', 'parameter': {'parameterName': '10', 'parameterUnit': '百分比'}}, {'startTime': '2023-07-22T18:00:00+08:00', 'endTime': '2023-07-23T06:00:00+08:00', 'parameter': {'parameterName': '10', 'parameterUnit': '百分比'}}, {'startTime': '2023-07-23T06:00:00+08:00', 'endTime': '2023-07-23T18:00:00+08:00', 'parameter': {'parameterName': '20', 'parameterUnit': '百分比'}}]}]}\n",
      "{'locationName': '苗栗縣', 'weatherElement': [{'elementName': 'Wx', 'time': [{'startTime': '2023-07-22T12:00:00+08:00', 'endTime': '2023-07-22T18:00:00+08:00', 'parameter': {'parameterName': '多雲時陰', 'parameterValue': '5'}}, {'startTime': '2023-07-22T18:00:00+08:00', 'endTime': '2023-07-23T06:00:00+08:00', 'parameter': {'parameterName': '多雲', 'parameterValue': '4'}}, {'startTime': '2023-07-23T06:00:00+08:00', 'endTime': '2023-07-23T18:00:00+08:00', 'parameter': {'parameterName': '多雲', 'parameterValue': '4'}}]}, {'elementName': 'MaxT', 'time': [{'startTime': '2023-07-22T12:00:00+08:00', 'endTime': '2023-07-22T18:00:00+08:00', 'parameter': {'parameterName': '34', 'parameterUnit': 'C'}}, {'startTime': '2023-07-22T18:00:00+08:00', 'endTime': '2023-07-23T06:00:00+08:00', 'parameter': {'parameterName': '31', 'parameterUnit': 'C'}}, {'startTime': '2023-07-23T06:00:00+08:00', 'endTime': '2023-07-23T18:00:00+08:00', 'parameter': {'parameterName': '34', 'parameterUnit': 'C'}}]}, {'elementName': 'MinT', 'time': [{'startTime': '2023-07-22T12:00:00+08:00', 'endTime': '2023-07-22T18:00:00+08:00', 'parameter': {'parameterName': '31', 'parameterUnit': 'C'}}, {'startTime': '2023-07-22T18:00:00+08:00', 'endTime': '2023-07-23T06:00:00+08:00', 'parameter': {'parameterName': '26', 'parameterUnit': 'C'}}, {'startTime': '2023-07-23T06:00:00+08:00', 'endTime': '2023-07-23T18:00:00+08:00', 'parameter': {'parameterName': '26', 'parameterUnit': 'C'}}]}, {'elementName': 'CI', 'time': [{'startTime': '2023-07-22T12:00:00+08:00', 'endTime': '2023-07-22T18:00:00+08:00', 'parameter': {'parameterName': '悶熱至易中暑'}}, {'startTime': '2023-07-22T18:00:00+08:00', 'endTime': '2023-07-23T06:00:00+08:00', 'parameter': {'parameterName': '舒適至悶熱'}}, {'startTime': '2023-07-23T06:00:00+08:00', 'endTime': '2023-07-23T18:00:00+08:00', 'parameter': {'parameterName': '舒適至悶熱'}}]}, {'elementName': 'PoP', 'time': [{'startTime': '2023-07-22T12:00:00+08:00', 'endTime': '2023-07-22T18:00:00+08:00', 'parameter': {'parameterName': '10', 'parameterUnit': '百分比'}}, {'startTime': '2023-07-22T18:00:00+08:00', 'endTime': '2023-07-23T06:00:00+08:00', 'parameter': {'parameterName': '10', 'parameterUnit': '百分比'}}, {'startTime': '2023-07-23T06:00:00+08:00', 'endTime': '2023-07-23T18:00:00+08:00', 'parameter': {'parameterName': '20', 'parameterUnit': '百分比'}}]}]}\n",
      "{'locationName': '彰化縣', 'weatherElement': [{'elementName': 'Wx', 'time': [{'startTime': '2023-07-22T12:00:00+08:00', 'endTime': '2023-07-22T18:00:00+08:00', 'parameter': {'parameterName': '多雲時陰', 'parameterValue': '5'}}, {'startTime': '2023-07-22T18:00:00+08:00', 'endTime': '2023-07-23T06:00:00+08:00', 'parameter': {'parameterName': '晴時多雲', 'parameterValue': '2'}}, {'startTime': '2023-07-23T06:00:00+08:00', 'endTime': '2023-07-23T18:00:00+08:00', 'parameter': {'parameterName': '多雲', 'parameterValue': '4'}}]}, {'elementName': 'MaxT', 'time': [{'startTime': '2023-07-22T12:00:00+08:00', 'endTime': '2023-07-22T18:00:00+08:00', 'parameter': {'parameterName': '34', 'parameterUnit': 'C'}}, {'startTime': '2023-07-22T18:00:00+08:00', 'endTime': '2023-07-23T06:00:00+08:00', 'parameter': {'parameterName': '32', 'parameterUnit': 'C'}}, {'startTime': '2023-07-23T06:00:00+08:00', 'endTime': '2023-07-23T18:00:00+08:00', 'parameter': {'parameterName': '34', 'parameterUnit': 'C'}}]}, {'elementName': 'MinT', 'time': [{'startTime': '2023-07-22T12:00:00+08:00', 'endTime': '2023-07-22T18:00:00+08:00', 'parameter': {'parameterName': '32', 'parameterUnit': 'C'}}, {'startTime': '2023-07-22T18:00:00+08:00', 'endTime': '2023-07-23T06:00:00+08:00', 'parameter': {'parameterName': '27', 'parameterUnit': 'C'}}, {'startTime': '2023-07-23T06:00:00+08:00', 'endTime': '2023-07-23T18:00:00+08:00', 'parameter': {'parameterName': '27', 'parameterUnit': 'C'}}]}, {'elementName': 'CI', 'time': [{'startTime': '2023-07-22T12:00:00+08:00', 'endTime': '2023-07-22T18:00:00+08:00', 'parameter': {'parameterName': '悶熱'}}, {'startTime': '2023-07-22T18:00:00+08:00', 'endTime': '2023-07-23T06:00:00+08:00', 'parameter': {'parameterName': '舒適至悶熱'}}, {'startTime': '2023-07-23T06:00:00+08:00', 'endTime': '2023-07-23T18:00:00+08:00', 'parameter': {'parameterName': '舒適至悶熱'}}]}, {'elementName': 'PoP', 'time': [{'startTime': '2023-07-22T12:00:00+08:00', 'endTime': '2023-07-22T18:00:00+08:00', 'parameter': {'parameterName': '10', 'parameterUnit': '百分比'}}, {'startTime': '2023-07-22T18:00:00+08:00', 'endTime': '2023-07-23T06:00:00+08:00', 'parameter': {'parameterName': '10', 'parameterUnit': '百分比'}}, {'startTime': '2023-07-23T06:00:00+08:00', 'endTime': '2023-07-23T18:00:00+08:00', 'parameter': {'parameterName': '10', 'parameterUnit': '百分比'}}]}]}\n",
      "{'locationName': '南投縣', 'weatherElement': [{'elementName': 'Wx', 'time': [{'startTime': '2023-07-22T12:00:00+08:00', 'endTime': '2023-07-22T18:00:00+08:00', 'parameter': {'parameterName': '多雲午後短暫雷陣雨', 'parameterValue': '22'}}, {'startTime': '2023-07-22T18:00:00+08:00', 'endTime': '2023-07-23T06:00:00+08:00', 'parameter': {'parameterName': '多雲時晴', 'parameterValue': '3'}}, {'startTime': '2023-07-23T06:00:00+08:00', 'endTime': '2023-07-23T18:00:00+08:00', 'parameter': {'parameterName': '多雲午後短暫雷陣雨', 'parameterValue': '22'}}]}, {'elementName': 'MaxT', 'time': [{'startTime': '2023-07-22T12:00:00+08:00', 'endTime': '2023-07-22T18:00:00+08:00', 'parameter': {'parameterName': '34', 'parameterUnit': 'C'}}, {'startTime': '2023-07-22T18:00:00+08:00', 'endTime': '2023-07-23T06:00:00+08:00', 'parameter': {'parameterName': '31', 'parameterUnit': 'C'}}, {'startTime': '2023-07-23T06:00:00+08:00', 'endTime': '2023-07-23T18:00:00+08:00', 'parameter': {'parameterName': '34', 'parameterUnit': 'C'}}]}, {'elementName': 'MinT', 'time': [{'startTime': '2023-07-22T12:00:00+08:00', 'endTime': '2023-07-22T18:00:00+08:00', 'parameter': {'parameterName': '31', 'parameterUnit': 'C'}}, {'startTime': '2023-07-22T18:00:00+08:00', 'endTime': '2023-07-23T06:00:00+08:00', 'parameter': {'parameterName': '26', 'parameterUnit': 'C'}}, {'startTime': '2023-07-23T06:00:00+08:00', 'endTime': '2023-07-23T18:00:00+08:00', 'parameter': {'parameterName': '26', 'parameterUnit': 'C'}}]}, {'elementName': 'CI', 'time': [{'startTime': '2023-07-22T12:00:00+08:00', 'endTime': '2023-07-22T18:00:00+08:00', 'parameter': {'parameterName': '悶熱至易中暑'}}, {'startTime': '2023-07-22T18:00:00+08:00', 'endTime': '2023-07-23T06:00:00+08:00', 'parameter': {'parameterName': '舒適至悶熱'}}, {'startTime': '2023-07-23T06:00:00+08:00', 'endTime': '2023-07-23T18:00:00+08:00', 'parameter': {'parameterName': '舒適至易中暑'}}]}, {'elementName': 'PoP', 'time': [{'startTime': '2023-07-22T12:00:00+08:00', 'endTime': '2023-07-22T18:00:00+08:00', 'parameter': {'parameterName': '40', 'parameterUnit': '百分比'}}, {'startTime': '2023-07-22T18:00:00+08:00', 'endTime': '2023-07-23T06:00:00+08:00', 'parameter': {'parameterName': '20', 'parameterUnit': '百分比'}}, {'startTime': '2023-07-23T06:00:00+08:00', 'endTime': '2023-07-23T18:00:00+08:00', 'parameter': {'parameterName': '50', 'parameterUnit': '百分比'}}]}]}\n",
      "{'locationName': '雲林縣', 'weatherElement': [{'elementName': 'Wx', 'time': [{'startTime': '2023-07-22T12:00:00+08:00', 'endTime': '2023-07-22T18:00:00+08:00', 'parameter': {'parameterName': '多雲午後短暫雷陣雨', 'parameterValue': '22'}}, {'startTime': '2023-07-22T18:00:00+08:00', 'endTime': '2023-07-23T06:00:00+08:00', 'parameter': {'parameterName': '晴時多雲', 'parameterValue': '2'}}, {'startTime': '2023-07-23T06:00:00+08:00', 'endTime': '2023-07-23T18:00:00+08:00', 'parameter': {'parameterName': '多雲午後短暫雷陣雨', 'parameterValue': '22'}}]}, {'elementName': 'MaxT', 'time': [{'startTime': '2023-07-22T12:00:00+08:00', 'endTime': '2023-07-22T18:00:00+08:00', 'parameter': {'parameterName': '34', 'parameterUnit': 'C'}}, {'startTime': '2023-07-22T18:00:00+08:00', 'endTime': '2023-07-23T06:00:00+08:00', 'parameter': {'parameterName': '30', 'parameterUnit': 'C'}}, {'startTime': '2023-07-23T06:00:00+08:00', 'endTime': '2023-07-23T18:00:00+08:00', 'parameter': {'parameterName': '34', 'parameterUnit': 'C'}}]}, {'elementName': 'MinT', 'time': [{'startTime': '2023-07-22T12:00:00+08:00', 'endTime': '2023-07-22T18:00:00+08:00', 'parameter': {'parameterName': '30', 'parameterUnit': 'C'}}, {'startTime': '2023-07-22T18:00:00+08:00', 'endTime': '2023-07-23T06:00:00+08:00', 'parameter': {'parameterName': '26', 'parameterUnit': 'C'}}, {'startTime': '2023-07-23T06:00:00+08:00', 'endTime': '2023-07-23T18:00:00+08:00', 'parameter': {'parameterName': '26', 'parameterUnit': 'C'}}]}, {'elementName': 'CI', 'time': [{'startTime': '2023-07-22T12:00:00+08:00', 'endTime': '2023-07-22T18:00:00+08:00', 'parameter': {'parameterName': '悶熱至易中暑'}}, {'startTime': '2023-07-22T18:00:00+08:00', 'endTime': '2023-07-23T06:00:00+08:00', 'parameter': {'parameterName': '舒適至悶熱'}}, {'startTime': '2023-07-23T06:00:00+08:00', 'endTime': '2023-07-23T18:00:00+08:00', 'parameter': {'parameterName': '舒適至易中暑'}}]}, {'elementName': 'PoP', 'time': [{'startTime': '2023-07-22T12:00:00+08:00', 'endTime': '2023-07-22T18:00:00+08:00', 'parameter': {'parameterName': '60', 'parameterUnit': '百分比'}}, {'startTime': '2023-07-22T18:00:00+08:00', 'endTime': '2023-07-23T06:00:00+08:00', 'parameter': {'parameterName': '10', 'parameterUnit': '百分比'}}, {'startTime': '2023-07-23T06:00:00+08:00', 'endTime': '2023-07-23T18:00:00+08:00', 'parameter': {'parameterName': '50', 'parameterUnit': '百分比'}}]}]}\n",
      "{'locationName': '嘉義縣', 'weatherElement': [{'elementName': 'Wx', 'time': [{'startTime': '2023-07-22T12:00:00+08:00', 'endTime': '2023-07-22T18:00:00+08:00', 'parameter': {'parameterName': '陰天', 'parameterValue': '7'}}, {'startTime': '2023-07-22T18:00:00+08:00', 'endTime': '2023-07-23T06:00:00+08:00', 'parameter': {'parameterName': '多雲', 'parameterValue': '4'}}, {'startTime': '2023-07-23T06:00:00+08:00', 'endTime': '2023-07-23T18:00:00+08:00', 'parameter': {'parameterName': '多雲午後短暫雷陣雨', 'parameterValue': '22'}}]}, {'elementName': 'MaxT', 'time': [{'startTime': '2023-07-22T12:00:00+08:00', 'endTime': '2023-07-22T18:00:00+08:00', 'parameter': {'parameterName': '34', 'parameterUnit': 'C'}}, {'startTime': '2023-07-22T18:00:00+08:00', 'endTime': '2023-07-23T06:00:00+08:00', 'parameter': {'parameterName': '31', 'parameterUnit': 'C'}}, {'startTime': '2023-07-23T06:00:00+08:00', 'endTime': '2023-07-23T18:00:00+08:00', 'parameter': {'parameterName': '34', 'parameterUnit': 'C'}}]}, {'elementName': 'MinT', 'time': [{'startTime': '2023-07-22T12:00:00+08:00', 'endTime': '2023-07-22T18:00:00+08:00', 'parameter': {'parameterName': '31', 'parameterUnit': 'C'}}, {'startTime': '2023-07-22T18:00:00+08:00', 'endTime': '2023-07-23T06:00:00+08:00', 'parameter': {'parameterName': '26', 'parameterUnit': 'C'}}, {'startTime': '2023-07-23T06:00:00+08:00', 'endTime': '2023-07-23T18:00:00+08:00', 'parameter': {'parameterName': '26', 'parameterUnit': 'C'}}]}, {'elementName': 'CI', 'time': [{'startTime': '2023-07-22T12:00:00+08:00', 'endTime': '2023-07-22T18:00:00+08:00', 'parameter': {'parameterName': '悶熱至易中暑'}}, {'startTime': '2023-07-22T18:00:00+08:00', 'endTime': '2023-07-23T06:00:00+08:00', 'parameter': {'parameterName': '舒適至悶熱'}}, {'startTime': '2023-07-23T06:00:00+08:00', 'endTime': '2023-07-23T18:00:00+08:00', 'parameter': {'parameterName': '舒適至易中暑'}}]}, {'elementName': 'PoP', 'time': [{'startTime': '2023-07-22T12:00:00+08:00', 'endTime': '2023-07-22T18:00:00+08:00', 'parameter': {'parameterName': '20', 'parameterUnit': '百分比'}}, {'startTime': '2023-07-22T18:00:00+08:00', 'endTime': '2023-07-23T06:00:00+08:00', 'parameter': {'parameterName': '10', 'parameterUnit': '百分比'}}, {'startTime': '2023-07-23T06:00:00+08:00', 'endTime': '2023-07-23T18:00:00+08:00', 'parameter': {'parameterName': '40', 'parameterUnit': '百分比'}}]}]}\n",
      "{'locationName': '嘉義市', 'weatherElement': [{'elementName': 'Wx', 'time': [{'startTime': '2023-07-22T12:00:00+08:00', 'endTime': '2023-07-22T18:00:00+08:00', 'parameter': {'parameterName': '多雲午後短暫雷陣雨', 'parameterValue': '22'}}, {'startTime': '2023-07-22T18:00:00+08:00', 'endTime': '2023-07-23T06:00:00+08:00', 'parameter': {'parameterName': '多雲時晴', 'parameterValue': '3'}}, {'startTime': '2023-07-23T06:00:00+08:00', 'endTime': '2023-07-23T18:00:00+08:00', 'parameter': {'parameterName': '多雲午後短暫雷陣雨', 'parameterValue': '22'}}]}, {'elementName': 'MaxT', 'time': [{'startTime': '2023-07-22T12:00:00+08:00', 'endTime': '2023-07-22T18:00:00+08:00', 'parameter': {'parameterName': '35', 'parameterUnit': 'C'}}, {'startTime': '2023-07-22T18:00:00+08:00', 'endTime': '2023-07-23T06:00:00+08:00', 'parameter': {'parameterName': '30', 'parameterUnit': 'C'}}, {'startTime': '2023-07-23T06:00:00+08:00', 'endTime': '2023-07-23T18:00:00+08:00', 'parameter': {'parameterName': '35', 'parameterUnit': 'C'}}]}, {'elementName': 'MinT', 'time': [{'startTime': '2023-07-22T12:00:00+08:00', 'endTime': '2023-07-22T18:00:00+08:00', 'parameter': {'parameterName': '30', 'parameterUnit': 'C'}}, {'startTime': '2023-07-22T18:00:00+08:00', 'endTime': '2023-07-23T06:00:00+08:00', 'parameter': {'parameterName': '25', 'parameterUnit': 'C'}}, {'startTime': '2023-07-23T06:00:00+08:00', 'endTime': '2023-07-23T18:00:00+08:00', 'parameter': {'parameterName': '25', 'parameterUnit': 'C'}}]}, {'elementName': 'CI', 'time': [{'startTime': '2023-07-22T12:00:00+08:00', 'endTime': '2023-07-22T18:00:00+08:00', 'parameter': {'parameterName': '悶熱至易中暑'}}, {'startTime': '2023-07-22T18:00:00+08:00', 'endTime': '2023-07-23T06:00:00+08:00', 'parameter': {'parameterName': '舒適至悶熱'}}, {'startTime': '2023-07-23T06:00:00+08:00', 'endTime': '2023-07-23T18:00:00+08:00', 'parameter': {'parameterName': '舒適至易中暑'}}]}, {'elementName': 'PoP', 'time': [{'startTime': '2023-07-22T12:00:00+08:00', 'endTime': '2023-07-22T18:00:00+08:00', 'parameter': {'parameterName': '70', 'parameterUnit': '百分比'}}, {'startTime': '2023-07-22T18:00:00+08:00', 'endTime': '2023-07-23T06:00:00+08:00', 'parameter': {'parameterName': '20', 'parameterUnit': '百分比'}}, {'startTime': '2023-07-23T06:00:00+08:00', 'endTime': '2023-07-23T18:00:00+08:00', 'parameter': {'parameterName': '60', 'parameterUnit': '百分比'}}]}]}\n",
      "{'locationName': '屏東縣', 'weatherElement': [{'elementName': 'Wx', 'time': [{'startTime': '2023-07-22T12:00:00+08:00', 'endTime': '2023-07-22T18:00:00+08:00', 'parameter': {'parameterName': '多雲午後短暫雷陣雨', 'parameterValue': '22'}}, {'startTime': '2023-07-22T18:00:00+08:00', 'endTime': '2023-07-23T06:00:00+08:00', 'parameter': {'parameterName': '晴時多雲', 'parameterValue': '2'}}, {'startTime': '2023-07-23T06:00:00+08:00', 'endTime': '2023-07-23T18:00:00+08:00', 'parameter': {'parameterName': '多雲午後短暫雷陣雨', 'parameterValue': '22'}}]}, {'elementName': 'MaxT', 'time': [{'startTime': '2023-07-22T12:00:00+08:00', 'endTime': '2023-07-22T18:00:00+08:00', 'parameter': {'parameterName': '34', 'parameterUnit': 'C'}}, {'startTime': '2023-07-22T18:00:00+08:00', 'endTime': '2023-07-23T06:00:00+08:00', 'parameter': {'parameterName': '31', 'parameterUnit': 'C'}}, {'startTime': '2023-07-23T06:00:00+08:00', 'endTime': '2023-07-23T18:00:00+08:00', 'parameter': {'parameterName': '34', 'parameterUnit': 'C'}}]}, {'elementName': 'MinT', 'time': [{'startTime': '2023-07-22T12:00:00+08:00', 'endTime': '2023-07-22T18:00:00+08:00', 'parameter': {'parameterName': '31', 'parameterUnit': 'C'}}, {'startTime': '2023-07-22T18:00:00+08:00', 'endTime': '2023-07-23T06:00:00+08:00', 'parameter': {'parameterName': '26', 'parameterUnit': 'C'}}, {'startTime': '2023-07-23T06:00:00+08:00', 'endTime': '2023-07-23T18:00:00+08:00', 'parameter': {'parameterName': '26', 'parameterUnit': 'C'}}]}, {'elementName': 'CI', 'time': [{'startTime': '2023-07-22T12:00:00+08:00', 'endTime': '2023-07-22T18:00:00+08:00', 'parameter': {'parameterName': '悶熱'}}, {'startTime': '2023-07-22T18:00:00+08:00', 'endTime': '2023-07-23T06:00:00+08:00', 'parameter': {'parameterName': '舒適至悶熱'}}, {'startTime': '2023-07-23T06:00:00+08:00', 'endTime': '2023-07-23T18:00:00+08:00', 'parameter': {'parameterName': '舒適至易中暑'}}]}, {'elementName': 'PoP', 'time': [{'startTime': '2023-07-22T12:00:00+08:00', 'endTime': '2023-07-22T18:00:00+08:00', 'parameter': {'parameterName': '70', 'parameterUnit': '百分比'}}, {'startTime': '2023-07-22T18:00:00+08:00', 'endTime': '2023-07-23T06:00:00+08:00', 'parameter': {'parameterName': '10', 'parameterUnit': '百分比'}}, {'startTime': '2023-07-23T06:00:00+08:00', 'endTime': '2023-07-23T18:00:00+08:00', 'parameter': {'parameterName': '90', 'parameterUnit': '百分比'}}]}]}\n",
      "{'locationName': '宜蘭縣', 'weatherElement': [{'elementName': 'Wx', 'time': [{'startTime': '2023-07-22T12:00:00+08:00', 'endTime': '2023-07-22T18:00:00+08:00', 'parameter': {'parameterName': '多雲', 'parameterValue': '4'}}, {'startTime': '2023-07-22T18:00:00+08:00', 'endTime': '2023-07-23T06:00:00+08:00', 'parameter': {'parameterName': '多雲時晴', 'parameterValue': '3'}}, {'startTime': '2023-07-23T06:00:00+08:00', 'endTime': '2023-07-23T18:00:00+08:00', 'parameter': {'parameterName': '多雲', 'parameterValue': '4'}}]}, {'elementName': 'MaxT', 'time': [{'startTime': '2023-07-22T12:00:00+08:00', 'endTime': '2023-07-22T18:00:00+08:00', 'parameter': {'parameterName': '33', 'parameterUnit': 'C'}}, {'startTime': '2023-07-22T18:00:00+08:00', 'endTime': '2023-07-23T06:00:00+08:00', 'parameter': {'parameterName': '30', 'parameterUnit': 'C'}}, {'startTime': '2023-07-23T06:00:00+08:00', 'endTime': '2023-07-23T18:00:00+08:00', 'parameter': {'parameterName': '33', 'parameterUnit': 'C'}}]}, {'elementName': 'MinT', 'time': [{'startTime': '2023-07-22T12:00:00+08:00', 'endTime': '2023-07-22T18:00:00+08:00', 'parameter': {'parameterName': '30', 'parameterUnit': 'C'}}, {'startTime': '2023-07-22T18:00:00+08:00', 'endTime': '2023-07-23T06:00:00+08:00', 'parameter': {'parameterName': '26', 'parameterUnit': 'C'}}, {'startTime': '2023-07-23T06:00:00+08:00', 'endTime': '2023-07-23T18:00:00+08:00', 'parameter': {'parameterName': '26', 'parameterUnit': 'C'}}]}, {'elementName': 'CI', 'time': [{'startTime': '2023-07-22T12:00:00+08:00', 'endTime': '2023-07-22T18:00:00+08:00', 'parameter': {'parameterName': '悶熱'}}, {'startTime': '2023-07-22T18:00:00+08:00', 'endTime': '2023-07-23T06:00:00+08:00', 'parameter': {'parameterName': '舒適至悶熱'}}, {'startTime': '2023-07-23T06:00:00+08:00', 'endTime': '2023-07-23T18:00:00+08:00', 'parameter': {'parameterName': '舒適至悶熱'}}]}, {'elementName': 'PoP', 'time': [{'startTime': '2023-07-22T12:00:00+08:00', 'endTime': '2023-07-22T18:00:00+08:00', 'parameter': {'parameterName': '0', 'parameterUnit': '百分比'}}, {'startTime': '2023-07-22T18:00:00+08:00', 'endTime': '2023-07-23T06:00:00+08:00', 'parameter': {'parameterName': '10', 'parameterUnit': '百分比'}}, {'startTime': '2023-07-23T06:00:00+08:00', 'endTime': '2023-07-23T18:00:00+08:00', 'parameter': {'parameterName': '10', 'parameterUnit': '百分比'}}]}]}\n",
      "{'locationName': '花蓮縣', 'weatherElement': [{'elementName': 'Wx', 'time': [{'startTime': '2023-07-22T12:00:00+08:00', 'endTime': '2023-07-22T18:00:00+08:00', 'parameter': {'parameterName': '多雲', 'parameterValue': '4'}}, {'startTime': '2023-07-22T18:00:00+08:00', 'endTime': '2023-07-23T06:00:00+08:00', 'parameter': {'parameterName': '多雲時晴', 'parameterValue': '3'}}, {'startTime': '2023-07-23T06:00:00+08:00', 'endTime': '2023-07-23T18:00:00+08:00', 'parameter': {'parameterName': '多雲短暫陣雨', 'parameterValue': '8'}}]}, {'elementName': 'MaxT', 'time': [{'startTime': '2023-07-22T12:00:00+08:00', 'endTime': '2023-07-22T18:00:00+08:00', 'parameter': {'parameterName': '32', 'parameterUnit': 'C'}}, {'startTime': '2023-07-22T18:00:00+08:00', 'endTime': '2023-07-23T06:00:00+08:00', 'parameter': {'parameterName': '30', 'parameterUnit': 'C'}}, {'startTime': '2023-07-23T06:00:00+08:00', 'endTime': '2023-07-23T18:00:00+08:00', 'parameter': {'parameterName': '32', 'parameterUnit': 'C'}}]}, {'elementName': 'MinT', 'time': [{'startTime': '2023-07-22T12:00:00+08:00', 'endTime': '2023-07-22T18:00:00+08:00', 'parameter': {'parameterName': '30', 'parameterUnit': 'C'}}, {'startTime': '2023-07-22T18:00:00+08:00', 'endTime': '2023-07-23T06:00:00+08:00', 'parameter': {'parameterName': '26', 'parameterUnit': 'C'}}, {'startTime': '2023-07-23T06:00:00+08:00', 'endTime': '2023-07-23T18:00:00+08:00', 'parameter': {'parameterName': '26', 'parameterUnit': 'C'}}]}, {'elementName': 'CI', 'time': [{'startTime': '2023-07-22T12:00:00+08:00', 'endTime': '2023-07-22T18:00:00+08:00', 'parameter': {'parameterName': '悶熱'}}, {'startTime': '2023-07-22T18:00:00+08:00', 'endTime': '2023-07-23T06:00:00+08:00', 'parameter': {'parameterName': '舒適至悶熱'}}, {'startTime': '2023-07-23T06:00:00+08:00', 'endTime': '2023-07-23T18:00:00+08:00', 'parameter': {'parameterName': '舒適至悶熱'}}]}, {'elementName': 'PoP', 'time': [{'startTime': '2023-07-22T12:00:00+08:00', 'endTime': '2023-07-22T18:00:00+08:00', 'parameter': {'parameterName': '10', 'parameterUnit': '百分比'}}, {'startTime': '2023-07-22T18:00:00+08:00', 'endTime': '2023-07-23T06:00:00+08:00', 'parameter': {'parameterName': '10', 'parameterUnit': '百分比'}}, {'startTime': '2023-07-23T06:00:00+08:00', 'endTime': '2023-07-23T18:00:00+08:00', 'parameter': {'parameterName': '30', 'parameterUnit': '百分比'}}]}]}\n",
      "{'locationName': '臺東縣', 'weatherElement': [{'elementName': 'Wx', 'time': [{'startTime': '2023-07-22T12:00:00+08:00', 'endTime': '2023-07-22T18:00:00+08:00', 'parameter': {'parameterName': '多雲時晴', 'parameterValue': '3'}}, {'startTime': '2023-07-22T18:00:00+08:00', 'endTime': '2023-07-23T06:00:00+08:00', 'parameter': {'parameterName': '晴時多雲', 'parameterValue': '2'}}, {'startTime': '2023-07-23T06:00:00+08:00', 'endTime': '2023-07-23T18:00:00+08:00', 'parameter': {'parameterName': '多雲時晴', 'parameterValue': '3'}}]}, {'elementName': 'MaxT', 'time': [{'startTime': '2023-07-22T12:00:00+08:00', 'endTime': '2023-07-22T18:00:00+08:00', 'parameter': {'parameterName': '32', 'parameterUnit': 'C'}}, {'startTime': '2023-07-22T18:00:00+08:00', 'endTime': '2023-07-23T06:00:00+08:00', 'parameter': {'parameterName': '30', 'parameterUnit': 'C'}}, {'startTime': '2023-07-23T06:00:00+08:00', 'endTime': '2023-07-23T18:00:00+08:00', 'parameter': {'parameterName': '32', 'parameterUnit': 'C'}}]}, {'elementName': 'MinT', 'time': [{'startTime': '2023-07-22T12:00:00+08:00', 'endTime': '2023-07-22T18:00:00+08:00', 'parameter': {'parameterName': '30', 'parameterUnit': 'C'}}, {'startTime': '2023-07-22T18:00:00+08:00', 'endTime': '2023-07-23T06:00:00+08:00', 'parameter': {'parameterName': '26', 'parameterUnit': 'C'}}, {'startTime': '2023-07-23T06:00:00+08:00', 'endTime': '2023-07-23T18:00:00+08:00', 'parameter': {'parameterName': '26', 'parameterUnit': 'C'}}]}, {'elementName': 'CI', 'time': [{'startTime': '2023-07-22T12:00:00+08:00', 'endTime': '2023-07-22T18:00:00+08:00', 'parameter': {'parameterName': '悶熱'}}, {'startTime': '2023-07-22T18:00:00+08:00', 'endTime': '2023-07-23T06:00:00+08:00', 'parameter': {'parameterName': '舒適至悶熱'}}, {'startTime': '2023-07-23T06:00:00+08:00', 'endTime': '2023-07-23T18:00:00+08:00', 'parameter': {'parameterName': '舒適至悶熱'}}]}, {'elementName': 'PoP', 'time': [{'startTime': '2023-07-22T12:00:00+08:00', 'endTime': '2023-07-22T18:00:00+08:00', 'parameter': {'parameterName': '0', 'parameterUnit': '百分比'}}, {'startTime': '2023-07-22T18:00:00+08:00', 'endTime': '2023-07-23T06:00:00+08:00', 'parameter': {'parameterName': '10', 'parameterUnit': '百分比'}}, {'startTime': '2023-07-23T06:00:00+08:00', 'endTime': '2023-07-23T18:00:00+08:00', 'parameter': {'parameterName': '0', 'parameterUnit': '百分比'}}]}]}\n",
      "{'locationName': '澎湖縣', 'weatherElement': [{'elementName': 'Wx', 'time': [{'startTime': '2023-07-22T12:00:00+08:00', 'endTime': '2023-07-22T18:00:00+08:00', 'parameter': {'parameterName': '晴時多雲', 'parameterValue': '2'}}, {'startTime': '2023-07-22T18:00:00+08:00', 'endTime': '2023-07-23T06:00:00+08:00', 'parameter': {'parameterName': '多雲', 'parameterValue': '4'}}, {'startTime': '2023-07-23T06:00:00+08:00', 'endTime': '2023-07-23T18:00:00+08:00', 'parameter': {'parameterName': '多雲時晴', 'parameterValue': '3'}}]}, {'elementName': 'MaxT', 'time': [{'startTime': '2023-07-22T12:00:00+08:00', 'endTime': '2023-07-22T18:00:00+08:00', 'parameter': {'parameterName': '33', 'parameterUnit': 'C'}}, {'startTime': '2023-07-22T18:00:00+08:00', 'endTime': '2023-07-23T06:00:00+08:00', 'parameter': {'parameterName': '30', 'parameterUnit': 'C'}}, {'startTime': '2023-07-23T06:00:00+08:00', 'endTime': '2023-07-23T18:00:00+08:00', 'parameter': {'parameterName': '33', 'parameterUnit': 'C'}}]}, {'elementName': 'MinT', 'time': [{'startTime': '2023-07-22T12:00:00+08:00', 'endTime': '2023-07-22T18:00:00+08:00', 'parameter': {'parameterName': '30', 'parameterUnit': 'C'}}, {'startTime': '2023-07-22T18:00:00+08:00', 'endTime': '2023-07-23T06:00:00+08:00', 'parameter': {'parameterName': '28', 'parameterUnit': 'C'}}, {'startTime': '2023-07-23T06:00:00+08:00', 'endTime': '2023-07-23T18:00:00+08:00', 'parameter': {'parameterName': '28', 'parameterUnit': 'C'}}]}, {'elementName': 'CI', 'time': [{'startTime': '2023-07-22T12:00:00+08:00', 'endTime': '2023-07-22T18:00:00+08:00', 'parameter': {'parameterName': '悶熱'}}, {'startTime': '2023-07-22T18:00:00+08:00', 'endTime': '2023-07-23T06:00:00+08:00', 'parameter': {'parameterName': '悶熱'}}, {'startTime': '2023-07-23T06:00:00+08:00', 'endTime': '2023-07-23T18:00:00+08:00', 'parameter': {'parameterName': '悶熱'}}]}, {'elementName': 'PoP', 'time': [{'startTime': '2023-07-22T12:00:00+08:00', 'endTime': '2023-07-22T18:00:00+08:00', 'parameter': {'parameterName': '0', 'parameterUnit': '百分比'}}, {'startTime': '2023-07-22T18:00:00+08:00', 'endTime': '2023-07-23T06:00:00+08:00', 'parameter': {'parameterName': '20', 'parameterUnit': '百分比'}}, {'startTime': '2023-07-23T06:00:00+08:00', 'endTime': '2023-07-23T18:00:00+08:00', 'parameter': {'parameterName': '10', 'parameterUnit': '百分比'}}]}]}\n",
      "{'locationName': '金門縣', 'weatherElement': [{'elementName': 'Wx', 'time': [{'startTime': '2023-07-22T12:00:00+08:00', 'endTime': '2023-07-22T18:00:00+08:00', 'parameter': {'parameterName': '晴時多雲', 'parameterValue': '2'}}, {'startTime': '2023-07-22T18:00:00+08:00', 'endTime': '2023-07-23T06:00:00+08:00', 'parameter': {'parameterName': '多雲', 'parameterValue': '4'}}, {'startTime': '2023-07-23T06:00:00+08:00', 'endTime': '2023-07-23T18:00:00+08:00', 'parameter': {'parameterName': '多雲時晴', 'parameterValue': '3'}}]}, {'elementName': 'MaxT', 'time': [{'startTime': '2023-07-22T12:00:00+08:00', 'endTime': '2023-07-22T18:00:00+08:00', 'parameter': {'parameterName': '33', 'parameterUnit': 'C'}}, {'startTime': '2023-07-22T18:00:00+08:00', 'endTime': '2023-07-23T06:00:00+08:00', 'parameter': {'parameterName': '30', 'parameterUnit': 'C'}}, {'startTime': '2023-07-23T06:00:00+08:00', 'endTime': '2023-07-23T18:00:00+08:00', 'parameter': {'parameterName': '34', 'parameterUnit': 'C'}}]}, {'elementName': 'MinT', 'time': [{'startTime': '2023-07-22T12:00:00+08:00', 'endTime': '2023-07-22T18:00:00+08:00', 'parameter': {'parameterName': '30', 'parameterUnit': 'C'}}, {'startTime': '2023-07-22T18:00:00+08:00', 'endTime': '2023-07-23T06:00:00+08:00', 'parameter': {'parameterName': '27', 'parameterUnit': 'C'}}, {'startTime': '2023-07-23T06:00:00+08:00', 'endTime': '2023-07-23T18:00:00+08:00', 'parameter': {'parameterName': '27', 'parameterUnit': 'C'}}]}, {'elementName': 'CI', 'time': [{'startTime': '2023-07-22T12:00:00+08:00', 'endTime': '2023-07-22T18:00:00+08:00', 'parameter': {'parameterName': '悶熱至易中暑'}}, {'startTime': '2023-07-22T18:00:00+08:00', 'endTime': '2023-07-23T06:00:00+08:00', 'parameter': {'parameterName': '悶熱'}}, {'startTime': '2023-07-23T06:00:00+08:00', 'endTime': '2023-07-23T18:00:00+08:00', 'parameter': {'parameterName': '悶熱至易中暑'}}]}, {'elementName': 'PoP', 'time': [{'startTime': '2023-07-22T12:00:00+08:00', 'endTime': '2023-07-22T18:00:00+08:00', 'parameter': {'parameterName': '0', 'parameterUnit': '百分比'}}, {'startTime': '2023-07-22T18:00:00+08:00', 'endTime': '2023-07-23T06:00:00+08:00', 'parameter': {'parameterName': '0', 'parameterUnit': '百分比'}}, {'startTime': '2023-07-23T06:00:00+08:00', 'endTime': '2023-07-23T18:00:00+08:00', 'parameter': {'parameterName': '0', 'parameterUnit': '百分比'}}]}]}\n",
      "{'locationName': '連江縣', 'weatherElement': [{'elementName': 'Wx', 'time': [{'startTime': '2023-07-22T12:00:00+08:00', 'endTime': '2023-07-22T18:00:00+08:00', 'parameter': {'parameterName': '多雲', 'parameterValue': '4'}}, {'startTime': '2023-07-22T18:00:00+08:00', 'endTime': '2023-07-23T06:00:00+08:00', 'parameter': {'parameterName': '多雲', 'parameterValue': '4'}}, {'startTime': '2023-07-23T06:00:00+08:00', 'endTime': '2023-07-23T18:00:00+08:00', 'parameter': {'parameterName': '多雲時晴', 'parameterValue': '3'}}]}, {'elementName': 'MaxT', 'time': [{'startTime': '2023-07-22T12:00:00+08:00', 'endTime': '2023-07-22T18:00:00+08:00', 'parameter': {'parameterName': '32', 'parameterUnit': 'C'}}, {'startTime': '2023-07-22T18:00:00+08:00', 'endTime': '2023-07-23T06:00:00+08:00', 'parameter': {'parameterName': '29', 'parameterUnit': 'C'}}, {'startTime': '2023-07-23T06:00:00+08:00', 'endTime': '2023-07-23T18:00:00+08:00', 'parameter': {'parameterName': '32', 'parameterUnit': 'C'}}]}, {'elementName': 'MinT', 'time': [{'startTime': '2023-07-22T12:00:00+08:00', 'endTime': '2023-07-22T18:00:00+08:00', 'parameter': {'parameterName': '29', 'parameterUnit': 'C'}}, {'startTime': '2023-07-22T18:00:00+08:00', 'endTime': '2023-07-23T06:00:00+08:00', 'parameter': {'parameterName': '26', 'parameterUnit': 'C'}}, {'startTime': '2023-07-23T06:00:00+08:00', 'endTime': '2023-07-23T18:00:00+08:00', 'parameter': {'parameterName': '26', 'parameterUnit': 'C'}}]}, {'elementName': 'CI', 'time': [{'startTime': '2023-07-22T12:00:00+08:00', 'endTime': '2023-07-22T18:00:00+08:00', 'parameter': {'parameterName': '悶熱'}}, {'startTime': '2023-07-22T18:00:00+08:00', 'endTime': '2023-07-23T06:00:00+08:00', 'parameter': {'parameterName': '舒適至悶熱'}}, {'startTime': '2023-07-23T06:00:00+08:00', 'endTime': '2023-07-23T18:00:00+08:00', 'parameter': {'parameterName': '舒適至悶熱'}}]}, {'elementName': 'PoP', 'time': [{'startTime': '2023-07-22T12:00:00+08:00', 'endTime': '2023-07-22T18:00:00+08:00', 'parameter': {'parameterName': '10', 'parameterUnit': '百分比'}}, {'startTime': '2023-07-22T18:00:00+08:00', 'endTime': '2023-07-23T06:00:00+08:00', 'parameter': {'parameterName': '10', 'parameterUnit': '百分比'}}, {'startTime': '2023-07-23T06:00:00+08:00', 'endTime': '2023-07-23T18:00:00+08:00', 'parameter': {'parameterName': '10', 'parameterUnit': '百分比'}}]}]}\n"
     ]
    }
   ],
   "source": [
    "location=weather['cwbopendata']['dataset']['location']\n",
    "for item in location:\n",
    "    print(item)"
   ]
  },
  {
   "cell_type": "code",
   "execution_count": null,
   "metadata": {},
   "outputs": [
    {
     "data": {
      "text/plain": [
       "[{'城市': '臺北市'},\n",
       " {'城市': '新北市'},\n",
       " {'城市': '桃園市'},\n",
       " {'城市': '臺中市'},\n",
       " {'城市': '臺南市'},\n",
       " {'城市': '高雄市'},\n",
       " {'城市': '基隆市'},\n",
       " {'城市': '新竹縣'},\n",
       " {'城市': '新竹市'},\n",
       " {'城市': '苗栗縣'},\n",
       " {'城市': '彰化縣'},\n",
       " {'城市': '南投縣'},\n",
       " {'城市': '雲林縣'},\n",
       " {'城市': '嘉義縣'},\n",
       " {'城市': '嘉義市'},\n",
       " {'城市': '屏東縣'},\n",
       " {'城市': '宜蘭縣'},\n",
       " {'城市': '花蓮縣'},\n",
       " {'城市': '臺東縣'},\n",
       " {'城市': '澎湖縣'},\n",
       " {'城市': '金門縣'},\n",
       " {'城市': '連江縣'}]"
      ]
     },
     "execution_count": 26,
     "metadata": {},
     "output_type": "execute_result"
    }
   ],
   "source": [
    "location=weather['cwbopendata']['dataset']['location']\n",
    "weather_list=[]\n",
    "for item in location:\n",
    "    city_item={}\n",
    "    city_item['城市']=item['locationName']\n",
    "    weather_list.append(city_item)\n",
    "weather_list"
   ]
  },
  {
   "cell_type": "code",
   "execution_count": null,
   "metadata": {},
   "outputs": [
    {
     "data": {
      "text/plain": [
       "[{'城市': '臺北市',\n",
       "  '啟始時間': '2023-07-22T12:00:00+08:00',\n",
       "  '結束時間': '2023-07-22T18:00:00+08:00',\n",
       "  '最高溫度': 35.0,\n",
       "  '最低溫度': 32.0,\n",
       "  '感覺': '悶熱'},\n",
       " {'城市': '新北市',\n",
       "  '啟始時間': '2023-07-22T12:00:00+08:00',\n",
       "  '結束時間': '2023-07-22T18:00:00+08:00',\n",
       "  '最高溫度': 34.0,\n",
       "  '最低溫度': 31.0,\n",
       "  '感覺': '悶熱'},\n",
       " {'城市': '桃園市',\n",
       "  '啟始時間': '2023-07-22T12:00:00+08:00',\n",
       "  '結束時間': '2023-07-22T18:00:00+08:00',\n",
       "  '最高溫度': 35.0,\n",
       "  '最低溫度': 32.0,\n",
       "  '感覺': '悶熱至易中暑'},\n",
       " {'城市': '臺中市',\n",
       "  '啟始時間': '2023-07-22T12:00:00+08:00',\n",
       "  '結束時間': '2023-07-22T18:00:00+08:00',\n",
       "  '最高溫度': 35.0,\n",
       "  '最低溫度': 32.0,\n",
       "  '感覺': '悶熱'},\n",
       " {'城市': '臺南市',\n",
       "  '啟始時間': '2023-07-22T12:00:00+08:00',\n",
       "  '結束時間': '2023-07-22T18:00:00+08:00',\n",
       "  '最高溫度': 33.0,\n",
       "  '最低溫度': 31.0,\n",
       "  '感覺': '悶熱'},\n",
       " {'城市': '高雄市',\n",
       "  '啟始時間': '2023-07-22T12:00:00+08:00',\n",
       "  '結束時間': '2023-07-22T18:00:00+08:00',\n",
       "  '最高溫度': 33.0,\n",
       "  '最低溫度': 31.0,\n",
       "  '感覺': '悶熱'},\n",
       " {'城市': '基隆市',\n",
       "  '啟始時間': '2023-07-22T12:00:00+08:00',\n",
       "  '結束時間': '2023-07-22T18:00:00+08:00',\n",
       "  '最高溫度': 34.0,\n",
       "  '最低溫度': 31.0,\n",
       "  '感覺': '悶熱'},\n",
       " {'城市': '新竹縣',\n",
       "  '啟始時間': '2023-07-22T12:00:00+08:00',\n",
       "  '結束時間': '2023-07-22T18:00:00+08:00',\n",
       "  '最高溫度': 34.0,\n",
       "  '最低溫度': 31.0,\n",
       "  '感覺': '悶熱'},\n",
       " {'城市': '新竹市',\n",
       "  '啟始時間': '2023-07-22T12:00:00+08:00',\n",
       "  '結束時間': '2023-07-22T18:00:00+08:00',\n",
       "  '最高溫度': 33.0,\n",
       "  '最低溫度': 31.0,\n",
       "  '感覺': '悶熱'},\n",
       " {'城市': '苗栗縣',\n",
       "  '啟始時間': '2023-07-22T12:00:00+08:00',\n",
       "  '結束時間': '2023-07-22T18:00:00+08:00',\n",
       "  '最高溫度': 34.0,\n",
       "  '最低溫度': 31.0,\n",
       "  '感覺': '悶熱至易中暑'},\n",
       " {'城市': '彰化縣',\n",
       "  '啟始時間': '2023-07-22T12:00:00+08:00',\n",
       "  '結束時間': '2023-07-22T18:00:00+08:00',\n",
       "  '最高溫度': 34.0,\n",
       "  '最低溫度': 32.0,\n",
       "  '感覺': '悶熱'},\n",
       " {'城市': '南投縣',\n",
       "  '啟始時間': '2023-07-22T12:00:00+08:00',\n",
       "  '結束時間': '2023-07-22T18:00:00+08:00',\n",
       "  '最高溫度': 34.0,\n",
       "  '最低溫度': 31.0,\n",
       "  '感覺': '悶熱至易中暑'},\n",
       " {'城市': '雲林縣',\n",
       "  '啟始時間': '2023-07-22T12:00:00+08:00',\n",
       "  '結束時間': '2023-07-22T18:00:00+08:00',\n",
       "  '最高溫度': 34.0,\n",
       "  '最低溫度': 30.0,\n",
       "  '感覺': '悶熱至易中暑'},\n",
       " {'城市': '嘉義縣',\n",
       "  '啟始時間': '2023-07-22T12:00:00+08:00',\n",
       "  '結束時間': '2023-07-22T18:00:00+08:00',\n",
       "  '最高溫度': 34.0,\n",
       "  '最低溫度': 31.0,\n",
       "  '感覺': '悶熱至易中暑'},\n",
       " {'城市': '嘉義市',\n",
       "  '啟始時間': '2023-07-22T12:00:00+08:00',\n",
       "  '結束時間': '2023-07-22T18:00:00+08:00',\n",
       "  '最高溫度': 35.0,\n",
       "  '最低溫度': 30.0,\n",
       "  '感覺': '悶熱至易中暑'},\n",
       " {'城市': '屏東縣',\n",
       "  '啟始時間': '2023-07-22T12:00:00+08:00',\n",
       "  '結束時間': '2023-07-22T18:00:00+08:00',\n",
       "  '最高溫度': 34.0,\n",
       "  '最低溫度': 31.0,\n",
       "  '感覺': '悶熱'},\n",
       " {'城市': '宜蘭縣',\n",
       "  '啟始時間': '2023-07-22T12:00:00+08:00',\n",
       "  '結束時間': '2023-07-22T18:00:00+08:00',\n",
       "  '最高溫度': 33.0,\n",
       "  '最低溫度': 30.0,\n",
       "  '感覺': '悶熱'},\n",
       " {'城市': '花蓮縣',\n",
       "  '啟始時間': '2023-07-22T12:00:00+08:00',\n",
       "  '結束時間': '2023-07-22T18:00:00+08:00',\n",
       "  '最高溫度': 32.0,\n",
       "  '最低溫度': 30.0,\n",
       "  '感覺': '悶熱'},\n",
       " {'城市': '臺東縣',\n",
       "  '啟始時間': '2023-07-22T12:00:00+08:00',\n",
       "  '結束時間': '2023-07-22T18:00:00+08:00',\n",
       "  '最高溫度': 32.0,\n",
       "  '最低溫度': 30.0,\n",
       "  '感覺': '悶熱'},\n",
       " {'城市': '澎湖縣',\n",
       "  '啟始時間': '2023-07-22T12:00:00+08:00',\n",
       "  '結束時間': '2023-07-22T18:00:00+08:00',\n",
       "  '最高溫度': 33.0,\n",
       "  '最低溫度': 30.0,\n",
       "  '感覺': '悶熱'},\n",
       " {'城市': '金門縣',\n",
       "  '啟始時間': '2023-07-22T12:00:00+08:00',\n",
       "  '結束時間': '2023-07-22T18:00:00+08:00',\n",
       "  '最高溫度': 33.0,\n",
       "  '最低溫度': 30.0,\n",
       "  '感覺': '悶熱至易中暑'},\n",
       " {'城市': '連江縣',\n",
       "  '啟始時間': '2023-07-22T12:00:00+08:00',\n",
       "  '結束時間': '2023-07-22T18:00:00+08:00',\n",
       "  '最高溫度': 32.0,\n",
       "  '最低溫度': 29.0,\n",
       "  '感覺': '悶熱'}]"
      ]
     },
     "execution_count": 27,
     "metadata": {},
     "output_type": "execute_result"
    }
   ],
   "source": [
    "location=weather['cwbopendata']['dataset']['location']\n",
    "weather_list=[]\n",
    "for item in location:\n",
    "    city_item={}\n",
    "    city_item['城市']=item['locationName']\n",
    "    city_item['啟始時間'] = item['weatherElement'][1]['time'][0]['startTime']\n",
    "    city_item['結束時間'] = item['weatherElement'][1]['time'][0]['endTime']\n",
    "    city_item['最高溫度'] = float(item['weatherElement'][1]['time'][0]['parameter']['parameterName'])\n",
    "    city_item['最低溫度'] = float(item['weatherElement'][2]['time'][0]['parameter']['parameterName'])\n",
    "    city_item['感覺'] = item['weatherElement'][3]['time'][0]['parameter']['parameterName']\n",
    "    weather_list.append(city_item)\n",
    "weather_list"
   ]
  },
  {
   "cell_type": "code",
   "execution_count": 32,
   "metadata": {},
   "outputs": [],
   "source": [
    "import csv\n",
    "with open('目前天氣.csv',mode='w',encoding='utf-8',newline='') as file:\n",
    "    fieldnames=['城市','啟始時間','結束時間','最高溫度','最低溫度','感覺']\n",
    "    writer=csv.DictWriter(file,fieldnames=fieldnames)\n",
    "    writer.writeheader()\n",
    "    writer.writerows(weather_list)\n",
    "    \n"
   ]
  },
  {
   "cell_type": "markdown",
   "metadata": {},
   "source": [
    "#從網路上的Json檔，透過on line json viewer解析資料\n",
    " 在存成csv檔"
   ]
  }
 ],
 "metadata": {
  "kernelspec": {
   "display_name": "Python 3",
   "language": "python",
   "name": "python3"
  },
  "language_info": {
   "codemirror_mode": {
    "name": "ipython",
    "version": 3
   },
   "file_extension": ".py",
   "mimetype": "text/x-python",
   "name": "python",
   "nbconvert_exporter": "python",
   "pygments_lexer": "ipython3",
   "version": "3.10.12"
  },
  "orig_nbformat": 4
 },
 "nbformat": 4,
 "nbformat_minor": 2
}
